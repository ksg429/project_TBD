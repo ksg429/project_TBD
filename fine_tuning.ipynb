{
 "cells": [
  {
   "cell_type": "code",
   "execution_count": 4,
   "metadata": {},
   "outputs": [
    {
     "name": "stdout",
     "output_type": "stream",
     "text": [
      "Pytorch version:  2.1.2\n",
      "Torchvision version:  0.16.2\n"
     ]
    }
   ],
   "source": [
    "import torch\n",
    "import torch.nn as nn\n",
    "import torch.optim as optim\n",
    "import numpy as np\n",
    "\n",
    "import torchvision\n",
    "from torchvision import datasets, models, transforms\n",
    "import matplotlib.pyplot as plt\n",
    "import time\n",
    "import os\n",
    "import copy\n",
    "\n",
    "print(\"Pytorch version: \", torch.__version__)\n",
    "print(\"Torchvision version: \", torchvision.__version__)"
   ]
  },
  {
   "cell_type": "code",
   "execution_count": 5,
   "metadata": {},
   "outputs": [],
   "source": [
    "import os\n",
    "import random\n",
    "import numpy as np\n",
    "import pandas as pd\n",
    "import torch\n",
    "import torch.nn as nn\n",
    "import torch.nn.functional as F\n",
    "from torch.utils.data import Dataset, DataLoader\n",
    "from torchvision import models, transforms\n",
    "from skimage import io\n",
    "from PIL import Image\n",
    "from tqdm import tqdm\n",
    "import copy\n",
    "import matplotlib.pyplot as plt\n",
    "import seaborn as sns\n",
    "from sklearn.metrics import accuracy_score, roc_auc_score, f1_score\n",
    "from sklearn.metrics import confusion_matrix, precision_score, recall_score\n",
    "\n",
    "from torch.utils.tensorboard import SummaryWriter  # TensorBoard writer\n",
    "\n",
    "from load_ISIC2018 import load_ISIC2018_GT\n",
    "from dataset_from_df import labeled_dataset_from_path, unlabeled_dataset_from_path\n",
    "import opts\n",
    "from models.nets import densenet"
   ]
  },
  {
   "cell_type": "code",
   "execution_count": 6,
   "metadata": {},
   "outputs": [],
   "source": [
    "from easydict import EasyDict\n",
    "from datetime import datetime\n",
    "from pytz import timezone\n",
    "\n",
    "# 설정 값을 EasyDict로 정의\n",
    "args = EasyDict({\n",
    "    \"data_root\": \"/home/sg980429/research/All_data\",\n",
    "    \"save_dir\": \"../save_files\",\n",
    "    'data' : 'ISIC2018',\n",
    "    \"lbl_ratio\": 0.1,\n",
    "    \"resize\": 224,\n",
    "    \"batch_size\": 32,\n",
    "    \"num_workers\": 4,\n",
    "    \"gpu_num\": 1,\n",
    "    'gpu': 1,\n",
    "    'arch': 'DenseNet',\n",
    "    \"drop_rate\": 0.5,\n",
    "    \"lr\": 1e-3,\n",
    "    \"ft_lr\": 1e-4,\n",
    "    'num_classes':7,\n",
    "    \"num_epochs\": 128,\n",
    "    'RL': 'PPO',\n",
    "    \"episode_size\": 16,\n",
    "    \"mini_batch_size\": 4,\n",
    "    \"mini_num_epochs\": 4,\n",
    "    \"controller_gpu\": 2,\n",
    "    \"experiment_num\": 789,\n",
    "    # \"experiment_num\": datetime.now(timezone('Asia/Seoul')).strftime(\"%Y%m%d_%H%M%S\"),\n",
    "\n",
    "    \"topk\" : 50,\n",
    "    })\n",
    "\n",
    "device = torch.device(f\"cuda:{args.gpu_num}\" if torch.cuda.is_available() else \"cpu\")"
   ]
  },
  {
   "cell_type": "code",
   "execution_count": 7,
   "metadata": {},
   "outputs": [],
   "source": [
    "data_root = \"/home/sg980429/research/All_data\""
   ]
  },
  {
   "cell_type": "code",
   "execution_count": 8,
   "metadata": {},
   "outputs": [],
   "source": [
    "args.experiment_num = 123 \n",
    "args.seed = args.experiment_num "
   ]
  },
  {
   "cell_type": "code",
   "execution_count": 9,
   "metadata": {},
   "outputs": [],
   "source": [
    "exp_dir = os.path.join(args.save_dir,f'{args.data}_{args.arch}_{args.RL}_{args.experiment_num}')"
   ]
  },
  {
   "cell_type": "code",
   "execution_count": 10,
   "metadata": {},
   "outputs": [],
   "source": [
    "teacher_model_dir = os.path.join(exp_dir,\"teacher_model\")\n",
    "\n",
    "task_predictor_dir = os.path.join(exp_dir,\"task_predictor\")\n",
    "\n",
    "df_path = os.path.join(exp_dir,\"train_df.pkl\")"
   ]
  },
  {
   "cell_type": "code",
   "execution_count": 11,
   "metadata": {},
   "outputs": [],
   "source": [
    "_, val_df, test_df = load_ISIC2018_GT(data_root)\n",
    "training_df = pd.read_pickle(df_path)\n",
    "num_classes = len(test_df['GT'][0])"
   ]
  },
  {
   "cell_type": "code",
   "execution_count": 12,
   "metadata": {},
   "outputs": [],
   "source": [
    "x = 0.85\n",
    "indices = training_df[training_df['contribution'] >= x].index"
   ]
  },
  {
   "cell_type": "code",
   "execution_count": 13,
   "metadata": {},
   "outputs": [
    {
     "data": {
      "text/plain": [
       "2609"
      ]
     },
     "execution_count": 13,
     "metadata": {},
     "output_type": "execute_result"
    }
   ],
   "source": [
    "len(indices)"
   ]
  },
  {
   "cell_type": "code",
   "execution_count": 14,
   "metadata": {},
   "outputs": [],
   "source": [
    "args.seed = args.experiment_num\n",
    "np.random.seed(args.seed)\n",
    "train_indexes = np.random.permutation(len(training_df))\n",
    "val_indexes = np.random.permutation(len(val_df))\n",
    "test_indexes = np.arange(len(test_df))\n",
    "\n",
    "num_labels = int(len(training_df)*args.lbl_ratio)\n",
    "lbl_indexes = train_indexes[:num_labels]\n",
    "ulb_indexes = train_indexes[num_labels:]"
   ]
  },
  {
   "cell_type": "code",
   "execution_count": 15,
   "metadata": {},
   "outputs": [],
   "source": [
    "lbl_indexes = np.array(lbl_indexes)  \n",
    "# indices = np.array(indices)          \n",
    "\n",
    "# 배열 결합\n",
    "# combined_array = np.concatenate((lbl_indexes, indices))"
   ]
  },
  {
   "cell_type": "code",
   "execution_count": null,
   "metadata": {},
   "outputs": [],
   "source": []
  },
  {
   "cell_type": "code",
   "execution_count": 16,
   "metadata": {},
   "outputs": [],
   "source": [
    "mean = [0.485, 0.456, 0.406]\n",
    "std = [0.229, 0.224, 0.225]\n",
    "\n",
    "\n",
    "# train_transform = transforms.Compose(\n",
    "#     [\n",
    "#         transforms.RandomResizedCrop((args.resize, args.resize), scale=(0.8, 1.0)),  # Crop with a conservative scale to retain lesions\n",
    "#         transforms.RandomHorizontalFlip(),  # Horizontal flip\n",
    "#         transforms.RandomVerticalFlip(),  # Vertical flip\n",
    "#         transforms.RandomRotation(degrees=15),  # Rotate by a small degree\n",
    "#         transforms.ColorJitter(brightness=0.1, contrast=0.1, saturation=0.1, hue=0.05),  # Slight color adjustments\n",
    "#         transforms.GaussianBlur(kernel_size=(3, 3), sigma=(0.1, 1.0)),  # Gentle Gaussian Blur\n",
    "#         transforms.ToTensor(),\n",
    "#         transforms.Normalize(mean, std),\n",
    "#     ]\n",
    "# )\n",
    "# train_transform = transforms.Compose(\n",
    "#     [\n",
    "#         transforms.RandomResizedCrop((args.resize,args.resize), scale=(0.2, 1.0)),\n",
    "#         transforms.RandomHorizontalFlip(),\n",
    "#         transforms.ToTensor(),\n",
    "#         transforms.Normalize(mean, std),\n",
    "#     ]\n",
    "# )\n",
    "train_transform = transforms.Compose(\n",
    "    [\n",
    "        transforms.RandomResizedCrop((args.resize, args.resize), scale=(0.8, 1.0)),  # Crop with a conservative scale to retain lesions\n",
    "        transforms.RandomHorizontalFlip(),  # Horizontal flip\n",
    "        transforms.RandomVerticalFlip(),  # Vertical flip\n",
    "        transforms.RandomRotation(degrees=15),  # Rotate by a small degree\n",
    "        transforms.ColorJitter(brightness=0.1, contrast=0.1, saturation=0.1, hue=0.05),  # Slight color adjustments\n",
    "        transforms.GaussianBlur(kernel_size=(3, 3), sigma=(0.1, 1.0)),  # Gentle Gaussian Blur\n",
    "        transforms.ToTensor(),\n",
    "        transforms.Normalize(mean, std),\n",
    "    ]\n",
    ")\n",
    "\n",
    "\n",
    "\n",
    "test_transform = transforms.Compose(\n",
    "    [\n",
    "        transforms.Resize((args.resize,args.resize)),\n",
    "        transforms.ToTensor(),\n",
    "        transforms.Normalize(mean, std),\n",
    "    ]\n",
    ")"
   ]
  },
  {
   "cell_type": "code",
   "execution_count": 17,
   "metadata": {},
   "outputs": [],
   "source": [
    "\n",
    "lbl_dataset = labeled_dataset_from_path(training_df,lbl_indexes,transforms=train_transform)\n",
    "\n",
    "val_dataset = labeled_dataset_from_path(val_df, val_indexes, transforms=test_transform)\n",
    "test_dataset = labeled_dataset_from_path(test_df, test_indexes, transforms=test_transform)"
   ]
  },
  {
   "cell_type": "code",
   "execution_count": 18,
   "metadata": {},
   "outputs": [],
   "source": [
    "LabeledTrainLoader = DataLoader(lbl_dataset, \n",
    "                  batch_size=args.batch_size,\n",
    "                  num_workers=args.num_workers)\n",
    "\n",
    "ValLoader = DataLoader(val_dataset, \n",
    "                  batch_size=args.batch_size,\n",
    "                  num_workers=args.num_workers)\n",
    "\n",
    "TestLoader = DataLoader(test_dataset, \n",
    "                  batch_size=args.batch_size,\n",
    "                  num_workers=args.num_workers)"
   ]
  },
  {
   "cell_type": "code",
   "execution_count": 19,
   "metadata": {},
   "outputs": [],
   "source": [
    "def create_densenet_model(pretrained, drop_rate, num_classes):\n",
    "    backbone = densenet.densenet121(pretrained=pretrained, drop_rate=drop_rate)\n",
    "    in_features = backbone.classifier.in_features \n",
    "    backbone.classifier = nn.Linear(in_features, num_classes)\n",
    "    model = nn.SyncBatchNorm.convert_sync_batchnorm(backbone)\n",
    "    return model"
   ]
  },
  {
   "cell_type": "code",
   "execution_count": 20,
   "metadata": {},
   "outputs": [],
   "source": [
    "model1 = create_densenet_model(pretrained=True, drop_rate=args.drop_rate,num_classes=args.num_classes)\n",
    "ImageNet_PreTrained_weights = copy.deepcopy(model1.state_dict())"
   ]
  },
  {
   "cell_type": "code",
   "execution_count": null,
   "metadata": {},
   "outputs": [],
   "source": []
  },
  {
   "cell_type": "code",
   "execution_count": 25,
   "metadata": {},
   "outputs": [],
   "source": [
    "def evaluate_model_performance(test_model,TestLoader,device):\n",
    "    test_model.to(device)\n",
    "    test_model.eval() \n",
    "    all_labels = []\n",
    "    all_preds = []\n",
    "    all_probs = []\n",
    "    \n",
    "    with torch.no_grad():  \n",
    "        for test_inputs, test_labels, _ in tqdm(TestLoader):\n",
    "            test_inputs, test_labels = test_inputs.to(device), test_labels.to(device)\n",
    "\n",
    "            outputs, _ = test_model(test_inputs)\n",
    "\n",
    "            probs = torch.softmax(outputs, dim=1)  \n",
    "            _, preds = torch.max(outputs, 1)  \n",
    "    \n",
    "\n",
    "            all_labels.extend(np.argmax(test_labels.cpu().numpy(), axis=1))\n",
    "            all_preds.extend(preds.cpu().numpy())\n",
    "            all_probs.extend(probs.cpu().numpy())\n",
    "    \n",
    "    # Convert to numpy arrays for metric calculation\n",
    "    all_labels = np.array(all_labels)\n",
    "    all_preds = np.array(all_preds)\n",
    "    all_probs = np.array(all_probs)\n",
    "    \n",
    "\n",
    "    test_accuracy = accuracy_score(all_labels, all_preds)\n",
    "    test_f1_score = f1_score(all_labels, all_preds, average='macro')\n",
    "    test_auc = roc_auc_score(all_labels, all_probs, multi_class='ovr')\n",
    "\n",
    "    \n",
    "    \n",
    "\n",
    "    return test_accuracy, test_f1_score, test_auc"
   ]
  },
  {
   "cell_type": "code",
   "execution_count": null,
   "metadata": {},
   "outputs": [],
   "source": [
    "\n",
    "exp_num = [123,234,345,456,567,678,789,890,1111,2222,3333,4444]\n",
    "methods = ['confidence', 'contribution']\n",
    "xx = 0\n",
    "method = methods[xx]\n",
    "# exp_num = [123]\n",
    "num_classes = len(class_names)\n",
    "\n",
    "colors = plt.cm.rainbow(np.linspace(0, 1, len(class_names)))\n",
    "\n",
    "for method in methods:\n",
    "    for x in exp_num:\n",
    "        args.experiment_num = x\n",
    "        exp_dir = os.path.join(args.save_dir,f'{args.data}_{args.arch}_{args.RL}_{args.experiment_num}')\n",
    "        \n",
    "\n",
    "        df_path = os.path.join(exp_dir,\"train_df.pkl\")\n",
    "        training_df = pd.read_pickle(df_path)\n",
    "\n",
    "\n",
    "        \n",
    "        ulb_df = training_df[~training_df['contribution'].isna()].copy()\n",
    "        pseudo_labels_one_hot_np = np.array(ulb_df['labels'].tolist())\n",
    "        pseudo_labels_np = np.argmax(list(pseudo_labels_one_hot_np), axis=1)\n",
    "\n",
    "        \n",
    "\n",
    "        real_labels = np.array(ulb_df['GT'].tolist())\n",
    "        real_labels_np = np.argmax(list(real_labels), axis=1)\n",
    "\n",
    "        baseline_precision = precision_score(real_labels_np, pseudo_labels_np, average=None, labels=range(len(class_names)), zero_division=0)\n",
    "        baseline_recall = recall_score(real_labels_np, pseudo_labels_np, average=None, labels=range(len(class_names)), zero_division=0)\n",
    "\n",
    "        \n",
    "        threshold_scores = np.linspace(0, 1, 21)\n",
    "\n",
    "        # 클래스별 성능을 저장할 딕셔너리\n",
    "        class_performance = {class_name: {'precisions': [], 'recalls': []} for class_name in class_names}\n",
    "        os.makedirs(os.path.join(args.save_dir,'figures',f'bar_{x}'), exist_ok=True) \n",
    "        \n",
    "        for i, threshold in enumerate(threshold_scores):\n",
    "            ulb_score = np.array(ulb_df[method].tolist())\n",
    "            mask = ulb_score >= threshold"
   ]
  },
  {
   "cell_type": "code",
   "execution_count": 26,
   "metadata": {},
   "outputs": [],
   "source": [
    "metrics = [\"loss\",\"acc\", \"F1\", \"auc\"]\n",
    "m = 3"
   ]
  },
  {
   "cell_type": "code",
   "execution_count": 23,
   "metadata": {},
   "outputs": [],
   "source": [
    "# #%%\n",
    "\n",
    "\n",
    "# teacher_model_path = os.path.join(teacher_model_dir,f\"best_{metrics[m]}.pth\")\n",
    "# check_point = torch.load(teacher_model_path)\n",
    "\n",
    "# model1.load_state_dict(check_point['weights'])\n",
    "\n",
    "# test_accuracy, test_f1_score, test_auc = evaluate_model_performance(model1,TestLoader,device)\n",
    "# print(test_accuracy, test_f1_score, test_auc)"
   ]
  },
  {
   "cell_type": "code",
   "execution_count": 27,
   "metadata": {},
   "outputs": [
    {
     "name": "stderr",
     "output_type": "stream",
     "text": [
      "100%|██████████| 48/48 [00:02<00:00, 17.39it/s]"
     ]
    },
    {
     "name": "stdout",
     "output_type": "stream",
     "text": [
      "0.623015873015873 0.22426168294902768 0.8319069984667792\n"
     ]
    },
    {
     "name": "stderr",
     "output_type": "stream",
     "text": [
      "\n"
     ]
    }
   ],
   "source": [
    "#%%\n",
    "task_predictor_path = os.path.join(task_predictor_dir,f\"best_{metrics[m]}.pth\")\n",
    "check_point = torch.load(task_predictor_path)\n",
    "\n",
    "model1.load_state_dict(check_point['weights'])\n",
    "\n",
    "test_accuracy, test_f1_score, test_auc = evaluate_model_performance(model1,TestLoader,device)\n",
    "print(test_accuracy, test_f1_score, test_auc)"
   ]
  },
  {
   "cell_type": "code",
   "execution_count": 28,
   "metadata": {},
   "outputs": [
    {
     "data": {
      "text/plain": [
       "0.9226042012261549"
      ]
     },
     "execution_count": 28,
     "metadata": {},
     "output_type": "execute_result"
    }
   ],
   "source": [
    "check_point['val_auc']"
   ]
  },
  {
   "cell_type": "code",
   "execution_count": 25,
   "metadata": {},
   "outputs": [],
   "source": [
    "# combined_array\n",
    "\n",
    "# combined_dataset = labeled_dataset_from_path(training_df,combined_array,transforms=train_transform)\n",
    "\n",
    "# CombinedTrainLoader = DataLoader(combined_dataset, \n",
    "#                   batch_size=args.batch_size,\n",
    "#                   num_workers=args.num_workers)"
   ]
  },
  {
   "cell_type": "code",
   "execution_count": 26,
   "metadata": {},
   "outputs": [
    {
     "name": "stderr",
     "output_type": "stream",
     "text": [
      "100%|██████████| 128/128 [58:35<00:00, 27.47s/it]\n"
     ]
    }
   ],
   "source": [
    "from torch.optim.lr_scheduler import CosineAnnealingLR\n",
    "\n",
    "FT_log_dir = os.path.join(exp_dir,\"FT_log\")\n",
    "\n",
    "\n",
    "optimizer = torch.optim.Adam(\n",
    "            model1.parameters(),\n",
    "            lr=args.ft_lr,\n",
    "            betas=(0.9, 0.99),\n",
    "            eps=0.1,\n",
    "        )\n",
    "# optimizer = optim.Adam(model1.classifier.parameters(), lr=1e-4)  # 분류기만 학습\n",
    "\n",
    "# scheduler = CosineAnnealingLR(optimizer, T_max=20, eta_min=1e-5)\n",
    "\n",
    "criterion = nn.CrossEntropyLoss()\n",
    "\n",
    "writer = SummaryWriter(FT_log_dir)  # TensorBoard SummaryWriter\n",
    "model1.to(device)\n",
    "best_loss = 100\n",
    "best_acc = 0\n",
    "best_F1 = 0\n",
    "best_auc = 0\n",
    "for epoch in tqdm(range(args.num_epochs)):\n",
    "\n",
    "    running_loss = 0.0\n",
    "    model1.train() \n",
    "    for inputs, labels, idx in LabeledTrainLoader:\n",
    "        inputs, labels = inputs.to(device), labels.to(device)\n",
    "        \n",
    "        optimizer.zero_grad()\n",
    "        outputs = model1(inputs)\n",
    "        loss = criterion(outputs, labels)\n",
    "        loss.backward()\n",
    "        optimizer.step()\n",
    "\n",
    "        running_loss += loss.item()\n",
    "    avg_train_loss = running_loss / len(LabeledTrainLoader)\n",
    "    writer.add_scalar('Loss/Train', avg_train_loss, epoch)\n",
    "\n",
    "    model1.eval()  # Set model to evaluation mode\n",
    "    val_loss = 0.0\n",
    "    all_labels = []\n",
    "    all_preds = []\n",
    "    all_probs = []\n",
    "    \n",
    "    with torch.no_grad():\n",
    "        for val_inputs, val_labels, _ in ValLoader:\n",
    "            val_inputs, val_labels = val_inputs.to(device), val_labels.to(device)\n",
    "            val_outputs = model1(val_inputs)\n",
    "            loss = criterion(val_outputs, val_labels)\n",
    "            val_loss += loss.item()\n",
    "            \n",
    "            # Get the predicted labels and probabilities\n",
    "            probs = torch.softmax(val_outputs, dim=1)\n",
    "            _, preds = torch.max(val_outputs, 1)\n",
    "\n",
    "                            \n",
    "            # all_labels.extend(val_labels.cpu().numpy())\n",
    "            all_labels.extend(np.argmax(val_labels.cpu().numpy(), axis=1))\n",
    "            all_preds.extend(preds.cpu().numpy())\n",
    "\n",
    "            all_probs.extend(probs.cpu().numpy())\n",
    "    \n",
    "\n",
    "    all_labels = np.array(all_labels)\n",
    "    all_preds = np.array(all_preds)\n",
    "    all_probs = np.array(all_probs)\n",
    "\n",
    "\n",
    "    avg_val_loss = val_loss / len(ValLoader)\n",
    "    val_accuracy = accuracy_score(all_labels, all_preds)\n",
    "    val_f1_score = f1_score(all_labels, all_preds, average='macro')\n",
    "    val_auc = roc_auc_score(all_labels, all_probs, multi_class='ovr')\n",
    "\n",
    "\n",
    "    writer.add_scalar('Loss/Validation', val_loss, epoch)\n",
    "    writer.add_scalar('Accuracy/Validation', val_accuracy, epoch)\n",
    "    writer.add_scalar('F1-Score/Validation', val_f1_score, epoch)\n",
    "    writer.add_scalar('AUC/Validation', val_auc, epoch)\n",
    "    \n",
    "    state_dict = {\n",
    "        \"epoch\": epoch + 1,\n",
    "        \"weights\": model1.state_dict(),\n",
    "        \"val_loss\": avg_val_loss,\n",
    "        \"val_accuracy\": val_accuracy,\n",
    "        \"val_f1_score\": val_f1_score,\n",
    "        \"val_auc\": val_auc,\n",
    "    }\n",
    "\n",
    "\n",
    "\n",
    "    if avg_val_loss < best_loss:\n",
    "        best_loss = avg_val_loss\n",
    "        # torch.save(state_dict, os.path.join(teacher_model_dir,\"best_loss.pth\"))\n",
    "    if val_accuracy >  best_acc:\n",
    "        best_acc = val_accuracy\n",
    "        # torch.save(state_dict, os.path.join(teacher_model_dir,\"best_acc.pth\"))\n",
    "    if  val_f1_score > best_F1:\n",
    "        best_F1 = val_f1_score\n",
    "        # torch.save(state_dict, os.path.join(teacher_model_dir,\"best_F1.pth\"))\n",
    "    if val_auc > best_auc:\n",
    "        best_auc = val_auc\n",
    "        best_model_wts = copy.deepcopy(model1.state_dict())\n",
    "        # torch.save(state_dict, os.path.join(teacher_model_dir,\"best_auc.pth\"))\n",
    "# scheduler.step()\n",
    "\n",
    "writer.close()  "
   ]
  },
  {
   "cell_type": "code",
   "execution_count": 27,
   "metadata": {},
   "outputs": [
    {
     "data": {
      "text/plain": [
       "0.9408513466926806"
      ]
     },
     "execution_count": 27,
     "metadata": {},
     "output_type": "execute_result"
    }
   ],
   "source": [
    "best_auc\n"
   ]
  },
  {
   "cell_type": "code",
   "execution_count": 30,
   "metadata": {},
   "outputs": [
    {
     "name": "stderr",
     "output_type": "stream",
     "text": [
      "100%|██████████| 7/7 [00:01<00:00,  6.50it/s]"
     ]
    },
    {
     "name": "stdout",
     "output_type": "stream",
     "text": [
      "0.7927461139896373 0.46851636958041365 0.9408513466926806\n"
     ]
    },
    {
     "name": "stderr",
     "output_type": "stream",
     "text": [
      "\n"
     ]
    }
   ],
   "source": [
    "test_accuracy, test_f1_score, test_auc = evaluate_model_performance(model1,ValLoader,device)\n",
    "print(test_accuracy, test_f1_score, test_auc)"
   ]
  },
  {
   "cell_type": "code",
   "execution_count": 28,
   "metadata": {},
   "outputs": [
    {
     "name": "stderr",
     "output_type": "stream",
     "text": [
      "100%|██████████| 48/48 [00:03<00:00, 13.43it/s]"
     ]
    },
    {
     "name": "stdout",
     "output_type": "stream",
     "text": [
      "0.6574074074074074 0.3956114658758397 0.865600493059386\n"
     ]
    },
    {
     "name": "stderr",
     "output_type": "stream",
     "text": [
      "\n"
     ]
    }
   ],
   "source": [
    "model1.load_state_dict(best_model_wts)\n",
    "\n",
    "test_accuracy, test_f1_score, test_auc = evaluate_model_performance(model1,TestLoader,device)\n",
    "print(test_accuracy, test_f1_score, test_auc)"
   ]
  },
  {
   "cell_type": "code",
   "execution_count": 29,
   "metadata": {},
   "outputs": [
    {
     "data": {
      "text/plain": [
       "<torch.utils.data.dataloader.DataLoader at 0x7f2bf93e8130>"
      ]
     },
     "execution_count": 29,
     "metadata": {},
     "output_type": "execute_result"
    }
   ],
   "source": [
    "ValLoader"
   ]
  }
 ],
 "metadata": {
  "kernelspec": {
   "display_name": "rl_torch",
   "language": "python",
   "name": "python3"
  },
  "language_info": {
   "codemirror_mode": {
    "name": "ipython",
    "version": 3
   },
   "file_extension": ".py",
   "mimetype": "text/x-python",
   "name": "python",
   "nbconvert_exporter": "python",
   "pygments_lexer": "ipython3",
   "version": "3.8.18"
  }
 },
 "nbformat": 4,
 "nbformat_minor": 2
}
